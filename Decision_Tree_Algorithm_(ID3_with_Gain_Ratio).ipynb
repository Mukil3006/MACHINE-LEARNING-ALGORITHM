{
  "nbformat": 4,
  "nbformat_minor": 0,
  "metadata": {
    "colab": {
      "provenance": []
    },
    "kernelspec": {
      "name": "python3",
      "display_name": "Python 3"
    },
    "language_info": {
      "name": "python"
    }
  },
  "cells": [
    {
      "cell_type": "markdown",
      "source": [
        "##**Import Required Libraries**"
      ],
      "metadata": {
        "id": "dVyo-TFw0WBs"
      }
    },
    {
      "cell_type": "code",
      "source": [
        "import numpy as np\n",
        "import math\n",
        "import csv"
      ],
      "metadata": {
        "id": "ZYzhqfHm0hKj"
      },
      "execution_count": 1,
      "outputs": []
    },
    {
      "cell_type": "markdown",
      "source": [
        "##**Read Data from CSV**"
      ],
      "metadata": {
        "id": "Dg5kiH6A0nPT"
      }
    },
    {
      "cell_type": "code",
      "source": [
        "def read_data(filename):\n",
        "    with open(filename, 'r') as f:\n",
        "        data = list(csv.reader(f))\n",
        "    return data[0], np.array(data[1:])"
      ],
      "metadata": {
        "id": "d3-EqyDA0uir"
      },
      "execution_count": 11,
      "outputs": []
    },
    {
      "cell_type": "markdown",
      "source": [
        "##**Calculate Entropy**"
      ],
      "metadata": {
        "id": "gpLdbCHp1Gp7"
      }
    },
    {
      "cell_type": "code",
      "source": [
        "def entropy(S):\n",
        "    counts = np.unique(S, return_counts=True)[1] / len(S)\n",
        "    return -np.sum(counts * np.log2(counts))"
      ],
      "metadata": {
        "id": "cUnV2lmi1PP7"
      },
      "execution_count": 7,
      "outputs": []
    },
    {
      "cell_type": "markdown",
      "source": [
        "##**Compute Gain Ratio**"
      ],
      "metadata": {
        "id": "Lm-1ljQb1T7b"
      }
    },
    {
      "cell_type": "code",
      "source": [
        "def gain_ratio(data, col):\n",
        "    items, dict = {item: data[data[:, col] == item] for item in np.unique(data[:, col])}, {}\n",
        "    total_size = len(data)\n",
        "    iv = -np.sum([len(sub) / total_size * np.log2(len(sub) / total_size) for sub in dict.values()])\n",
        "    return (entropy(data[:, -1]) - np.sum([len(sub) / total_size * entropy(sub[:, -1]) for sub in dict.values()])) / iv"
      ],
      "metadata": {
        "id": "eVdfCR7S1Zfb"
      },
      "execution_count": 12,
      "outputs": []
    },
    {
      "cell_type": "markdown",
      "source": [
        "##**Define Node Class**\n",
        "\n"
      ],
      "metadata": {
        "id": "dDxogZTi1fAr"
      }
    },
    {
      "cell_type": "code",
      "source": [
        "class Node:\n",
        "    def __init__(self, answer=\"\"):\n",
        "        self.attribute = answer\n",
        "        self.children = []\n",
        "        self.answer = answer"
      ],
      "metadata": {
        "id": "HUr6AOv52IKU"
      },
      "execution_count": 13,
      "outputs": []
    },
    {
      "cell_type": "markdown",
      "source": [
        "##**Build Decision Tree**"
      ],
      "metadata": {
        "id": "yDS9X_z02UWz"
      }
    },
    {
      "cell_type": "code",
      "source": [
        "def create_node(data, metadata):\n",
        "    if len(np.unique(data[:, -1])) == 1:\n",
        "        return Node(np.unique(data[:, -1])[0])\n",
        "\n",
        "    gains = [gain_ratio(data, col) for col in range(data.shape[1] - 1)]\n",
        "    best_col = np.argmax(gains)\n",
        "    node = Node(metadata[best_col])\n",
        "    metadata = np.delete(metadata, best_col)\n",
        "    items, dict = {item: data[data[:, best_col] == item] for item in np.unique(data[:, best_col])}, {}\n",
        "\n",
        "    for item in dict:\n",
        "        node.children.append((item, create_node(dict[item], metadata)))\n",
        "    return node"
      ],
      "metadata": {
        "id": "-KoB1RoE2XR6"
      },
      "execution_count": 14,
      "outputs": []
    },
    {
      "cell_type": "markdown",
      "source": [
        "##**Print the Decision Tree**"
      ],
      "metadata": {
        "id": "zOo6HQ_Q2m6T"
      }
    },
    {
      "cell_type": "code",
      "source": [
        "def print_tree(node, level=0):\n",
        "    print(\"  \" * level, node.answer or node.attribute)\n",
        "    for value, child in node.children:\n",
        "        print(\"  \" * (level + 1), value)\n",
        "        print_tree(child, level + 2)"
      ],
      "metadata": {
        "id": "DaILGnHu2wv7"
      },
      "execution_count": 15,
      "outputs": []
    },
    {
      "cell_type": "markdown",
      "source": [
        "##**Run the Algorithm**"
      ],
      "metadata": {
        "id": "S2Pnkgtl20La"
      }
    },
    {
      "cell_type": "code",
      "source": [
        "# Load Data\n",
        "metadata, traindata = read_data(\"/content/drive/MyDrive/enjoysport.csv\")\n",
        "\n",
        "# Create Decision Tree\n",
        "node = create_node(traindata, metadata)\n",
        "\n",
        "# Print Decision Tree\n",
        "print_tree(node)\n"
      ],
      "metadata": {
        "colab": {
          "base_uri": "https://localhost:8080/"
        },
        "id": "0yFDmzPJ25wz",
        "outputId": "265f348f-8423-4c85-9b60-66b5e47f2710"
      },
      "execution_count": 16,
      "outputs": [
        {
          "output_type": "stream",
          "name": "stdout",
          "text": [
            " sky\n"
          ]
        },
        {
          "output_type": "stream",
          "name": "stderr",
          "text": [
            "<ipython-input-12-ac12ff44150f>:5: RuntimeWarning: divide by zero encountered in scalar divide\n",
            "  return (entropy(data[:, -1]) - np.sum([len(sub) / total_size * entropy(sub[:, -1]) for sub in dict.values()])) / iv\n"
          ]
        }
      ]
    },
    {
      "cell_type": "markdown",
      "source": [
        "##**Final program**"
      ],
      "metadata": {
        "id": "BRIgAFez3CdT"
      }
    },
    {
      "cell_type": "code",
      "source": [
        "import numpy as np\n",
        "import math\n",
        "import csv\n",
        "\n",
        "# Read and return data from CSV\n",
        "# The function now accepts a filename as an argument\n",
        "def read_data(filename):\n",
        "    with open(filename, 'r') as f:\n",
        "        data = list(csv.reader(f))\n",
        "    return data[0], np.array(data[1:])\n",
        "\n",
        "\n",
        "# Calculate entropy\n",
        "def entropy(S):\n",
        "    counts = np.unique(S, return_counts=True)[1] / len(S)\n",
        "    return -np.sum(counts * np.log2(counts))\n",
        "\n",
        "# Subtables and gain ratio calculation\n",
        "def gain_ratio(data, col):\n",
        "    items, dict = {item: data[data[:, col] == item] for item in np.unique(data[:, col])}, {}\n",
        "    total_size = len(data)\n",
        "    iv = -np.sum([len(sub) / total_size * np.log2(len(sub) / total_size) for sub in dict.values()])\n",
        "    return (entropy(data[:, -1]) - np.sum([len(sub) / total_size * entropy(sub[:, -1]) for sub in dict.values()])) / iv\n",
        "\n",
        "# Create decision tree node\n",
        "def create_node(data, metadata):\n",
        "    if len(np.unique(data[:, -1])) == 1:\n",
        "        return Node(np.unique(data[:, -1])[0])\n",
        "\n",
        "    gains = [gain_ratio(data, col) for col in range(data.shape[1] - 1)]\n",
        "    best_col = np.argmax(gains)\n",
        "    node = Node(metadata[best_col])\n",
        "    metadata = np.delete(metadata, best_col)\n",
        "    items, dict = {item: data[data[:, best_col] == item] for item in np.unique(data[:, best_col])}, {}\n",
        "\n",
        "    for item in dict:\n",
        "        node.children.append((item, create_node(dict[item], metadata)))\n",
        "    return node\n",
        "\n",
        "# Print the decision tree\n",
        "def print_tree(node, level=0):\n",
        "    print(\"  \" * level, node.answer or node.attribute)\n",
        "    for value, child in node.children:\n",
        "        print(\"  \" * (level + 1), value)\n",
        "        print_tree(child, level + 2)\n",
        "\n",
        "class Node:\n",
        "    def __init__(self, answer=\"\"):\n",
        "        self.attribute = answer\n",
        "        self.children = []\n",
        "        self.answer = answer\n",
        "\n",
        "# Main\n",
        "metadata, traindata = read_data(\"/content/drive/MyDrive/enjoysport.csv\") # Call read_data with filename\n",
        "node = create_node(traindata, metadata)\n",
        "print_tree(node)"
      ],
      "metadata": {
        "colab": {
          "base_uri": "https://localhost:8080/"
        },
        "id": "vY0kqZJL3PXC",
        "outputId": "9bdbc54c-33dd-4250-862a-a44acf0178e1"
      },
      "execution_count": 17,
      "outputs": [
        {
          "output_type": "stream",
          "name": "stdout",
          "text": [
            " sky\n"
          ]
        },
        {
          "output_type": "stream",
          "name": "stderr",
          "text": [
            "<ipython-input-17-d20ed6213a1c>:23: RuntimeWarning: divide by zero encountered in scalar divide\n",
            "  return (entropy(data[:, -1]) - np.sum([len(sub) / total_size * entropy(sub[:, -1]) for sub in dict.values()])) / iv\n"
          ]
        }
      ]
    }
  ]
}