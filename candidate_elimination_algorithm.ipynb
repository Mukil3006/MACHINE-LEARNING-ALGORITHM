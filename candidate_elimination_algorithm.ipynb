{
  "nbformat": 4,
  "nbformat_minor": 0,
  "metadata": {
    "colab": {
      "provenance": []
    },
    "kernelspec": {
      "name": "python3",
      "display_name": "Python 3"
    },
    "language_info": {
      "name": "python"
    }
  },
  "cells": [
    {
      "cell_type": "markdown",
      "source": [
        "##**Import necessary modules**\n"
      ],
      "metadata": {
        "id": "3aQsaxlLr3U1"
      }
    },
    {
      "cell_type": "code",
      "source": [
        "import numpy as np\n",
        "import pandas as pd"
      ],
      "metadata": {
        "id": "_atWEjUXsArV"
      },
      "execution_count": null,
      "outputs": []
    },
    {
      "cell_type": "markdown",
      "source": [
        "##**Load Data from CSV File**"
      ],
      "metadata": {
        "id": "1c09pCCHshVV"
      }
    },
    {
      "cell_type": "code",
      "source": [
        "data = pd.read_csv('/content/drive/MyDrive/enjoysport.csv')\n",
        "print(data)"
      ],
      "metadata": {
        "colab": {
          "base_uri": "https://localhost:8080/"
        },
        "id": "eW6eEd7qsw5l",
        "outputId": "5b6d9281-dcac-49b5-93d9-53c7aab222c9"
      },
      "execution_count": 9,
      "outputs": [
        {
          "output_type": "stream",
          "name": "stdout",
          "text": [
            "     sky airtemp humidity    wind water forcast enjoysport\n",
            "0  sunny    warm   normal  strong  warm    same        yes\n",
            "1  sunny    warm     high  strong  warm    same        yes\n",
            "2  rainy    cold     high  strong  warm  change         no\n",
            "3  sunny    warm     high  strong  cool  change        yes\n"
          ]
        }
      ]
    },
    {
      "cell_type": "markdown",
      "source": [
        "##**Extract Features and Target Variable**"
      ],
      "metadata": {
        "id": "hpmKr444s9xV"
      }
    },
    {
      "cell_type": "code",
      "source": [
        "concepts = data.iloc[:, :-1].values\n",
        "target = data.iloc[:, -1].values\n",
        "\n",
        "print(\"Concepts:\\n\", concepts)\n",
        "print(\"Target:\\n\", target)"
      ],
      "metadata": {
        "colab": {
          "base_uri": "https://localhost:8080/"
        },
        "id": "AAv05UCdtGfN",
        "outputId": "3456ec17-7145-4888-d765-958f6d4ee6b2"
      },
      "execution_count": 10,
      "outputs": [
        {
          "output_type": "stream",
          "name": "stdout",
          "text": [
            "Concepts:\n",
            " [['sunny' 'warm' 'normal' 'strong' 'warm' 'same']\n",
            " ['sunny' 'warm' 'high' 'strong' 'warm' 'same']\n",
            " ['rainy' 'cold' 'high' 'strong' 'warm' 'change']\n",
            " ['sunny' 'warm' 'high' 'strong' 'cool' 'change']]\n",
            "Target:\n",
            " ['yes' 'yes' 'no' 'yes']\n"
          ]
        }
      ]
    },
    {
      "cell_type": "markdown",
      "source": [
        "##**Define the Learning Function**"
      ],
      "metadata": {
        "id": "YShWWx-vtLON"
      }
    },
    {
      "cell_type": "code",
      "source": [
        "def learn(concepts, target):\n",
        "    ''' Candidate Elimination Algorithm '''"
      ],
      "metadata": {
        "id": "7jbNtyz3tQNt"
      },
      "execution_count": 11,
      "outputs": []
    },
    {
      "cell_type": "markdown",
      "source": [
        "##**Initialize Hypotheses**"
      ],
      "metadata": {
        "id": "0O87prMVtXKU"
      }
    },
    {
      "cell_type": "code",
      "source": [
        "specific_h = concepts[0].copy()\n",
        "general_h = [['?' for _ in specific_h] for _ in specific_h]\n",
        "\n",
        "print(\"Initial Specific Hypothesis:\\n\", specific_h)\n",
        "print(\"Initial General Hypothesis:\\n\", general_h)"
      ],
      "metadata": {
        "colab": {
          "base_uri": "https://localhost:8080/"
        },
        "id": "2VdVCEoutj2s",
        "outputId": "ce57c89b-92d8-4d68-e342-9c360c5719a1"
      },
      "execution_count": 12,
      "outputs": [
        {
          "output_type": "stream",
          "name": "stdout",
          "text": [
            "Initial Specific Hypothesis:\n",
            " ['sunny' 'warm' 'normal' 'strong' 'warm' 'same']\n",
            "Initial General Hypothesis:\n",
            " [['?', '?', '?', '?', '?', '?'], ['?', '?', '?', '?', '?', '?'], ['?', '?', '?', '?', '?', '?'], ['?', '?', '?', '?', '?', '?'], ['?', '?', '?', '?', '?', '?'], ['?', '?', '?', '?', '?', '?']]\n"
          ]
        }
      ]
    },
    {
      "cell_type": "markdown",
      "source": [
        "##**Iterate Through Training Data**"
      ],
      "metadata": {
        "id": "cVTe3iTbtq61"
      }
    },
    {
      "cell_type": "code",
      "source": [
        "for i, h in enumerate(concepts):\n",
        "  print(i)"
      ],
      "metadata": {
        "colab": {
          "base_uri": "https://localhost:8080/"
        },
        "id": "tbHHWi6Et7du",
        "outputId": "ad5770e1-843d-4bdc-f704-18a24ffdf340"
      },
      "execution_count": 14,
      "outputs": [
        {
          "output_type": "stream",
          "name": "stdout",
          "text": [
            "0\n",
            "1\n",
            "2\n",
            "3\n"
          ]
        }
      ]
    },
    {
      "cell_type": "markdown",
      "source": [
        "##**Update Hypotheses Based on Target Values**"
      ],
      "metadata": {
        "id": "wQyr70qvuJFm"
      }
    },
    {
      "cell_type": "code",
      "source": [
        "if target[i] == \"Yes\":\n",
        "    specific_h = [h[x] if h[x] == specific_h[x] else '?' for x in range(len(specific_h))]\n",
        "    general_h = [['?' if h[x] != specific_h[x] else general_h[x][x] for x in range(len(specific_h))] for _ in general_h]\n",
        "\n",
        "print(f\"\\nStep {i+1} - Specific_h: {specific_h} General_h: {general_h}\")"
      ],
      "metadata": {
        "colab": {
          "base_uri": "https://localhost:8080/"
        },
        "id": "spodUmdJuM2V",
        "outputId": "0d858860-baa5-4296-a74b-0b554a05e252"
      },
      "execution_count": 20,
      "outputs": [
        {
          "output_type": "stream",
          "name": "stdout",
          "text": [
            "\n",
            "Step 4 - Specific_h: ['sunny' 'warm' 'normal' 'strong' 'warm' 'same'] General_h: [['?', '?', '?', '?', '?', '?'], ['?', '?', '?', '?', '?', '?'], ['?', '?', '?', '?', '?', '?'], ['?', '?', '?', '?', '?', '?'], ['?', '?', '?', '?', '?', '?'], ['?', '?', '?', '?', '?', '?']]\n"
          ]
        }
      ]
    },
    {
      "cell_type": "markdown",
      "source": [
        "##**Remove Empty Rows in General Hypothesis**"
      ],
      "metadata": {
        "id": "KdYKqgqqvxNE"
      }
    },
    {
      "cell_type": "code",
      "source": [
        "general_h = [row for row in general_h if row != ['?' for _ in specific_h]]\n",
        "print(\"Filtered General Hypothesis:\\n\", general_h)"
      ],
      "metadata": {
        "colab": {
          "base_uri": "https://localhost:8080/"
        },
        "id": "U4rR8htov1FE",
        "outputId": "dbf59d7c-af63-4428-d1f7-39504f90d187"
      },
      "execution_count": 28,
      "outputs": [
        {
          "output_type": "stream",
          "name": "stdout",
          "text": [
            "Filtered General Hypothesis:\n",
            " []\n"
          ]
        }
      ]
    },
    {
      "cell_type": "markdown",
      "source": [
        "##**Print the Final Hypotheses**\n"
      ],
      "metadata": {
        "id": "e9pfBhP3xLXE"
      }
    },
    {
      "cell_type": "code",
      "source": [
        "s_final=specific_h\n",
        "g_final=general_h\n",
        "print(\"\\nFinal Specific_h:\", s_final, sep=\"\\n\")\n",
        "print(\"\\nFinal General_h:\", g_final, sep=\"\\n\")\n"
      ],
      "metadata": {
        "colab": {
          "base_uri": "https://localhost:8080/"
        },
        "id": "QGZb3NP3xNG8",
        "outputId": "b56d2ffd-1401-47f7-f010-4184d9087d4e"
      },
      "execution_count": 30,
      "outputs": [
        {
          "output_type": "stream",
          "name": "stdout",
          "text": [
            "\n",
            "Final Specific_h:\n",
            "['sunny' 'warm' 'normal' 'strong' 'warm' 'same']\n",
            "\n",
            "Final General_h:\n",
            "[]\n"
          ]
        }
      ]
    },
    {
      "cell_type": "markdown",
      "source": [
        "##**Final program**"
      ],
      "metadata": {
        "id": "H53DiZgiyFVE"
      }
    },
    {
      "cell_type": "code",
      "source": [
        "import numpy as np\n",
        "import pandas as pd\n",
        "\n",
        "# Loading Data from a CSV File\n",
        "data = pd.read_csv('/content/drive/MyDrive/enjoysport.csv')\n",
        "\n",
        "# Separating concepts and target\n",
        "concepts = data.iloc[:, :-1].values\n",
        "target = data.iloc[:, -1].values\n",
        "\n",
        "def learn(concepts, target):\n",
        "    ''' Candidate elimination algorithm '''\n",
        "\n",
        "    # Initialize specific_h with the first instance from concepts\n",
        "    specific_h = concepts[0].copy()\n",
        "    general_h = [['?' for _ in specific_h] for _ in specific_h]\n",
        "\n",
        "    # Learning process\n",
        "    for i, h in enumerate(concepts):\n",
        "        if target[i] == \"Yes\":  # Positive hypothesis\n",
        "            specific_h = [h[x] if h[x] == specific_h[x] else '?' for x in range(len(specific_h))]\n",
        "            general_h = [['?' if h[x] != specific_h[x] else general_h[x][x] for x in range(len(specific_h))] for _ in general_h]\n",
        "        else:  # Negative hypothesis\n",
        "            general_h = [[specific_h[x] if h[x] != specific_h[x] else '?' for x in range(len(specific_h))] for _ in general_h]\n",
        "\n",
        "        print(f\"\\nStep {i+1} - Specific_h: {specific_h} General_h: {general_h}\")\n",
        "\n",
        "    # Remove empty rows in general_h\n",
        "    general_h = [row for row in general_h if row != ['?' for _ in specific_h]]\n",
        "\n",
        "    return specific_h, general_h\n",
        "\n",
        "# Call the learning function\n",
        "s_final, g_final = learn(concepts, target)\n",
        "\n",
        "# Print the final values of specific_h and general_h\n",
        "print(\"\\nFinal Specific_h:\", s_final, sep=\"\\n\")\n",
        "print(\"\\nFinal General_h:\", g_final, sep=\"\\n\")"
      ],
      "metadata": {
        "colab": {
          "base_uri": "https://localhost:8080/"
        },
        "id": "e72-Y3MsyG6L",
        "outputId": "6ee4c349-bbad-4bbe-92b3-64228d469df1"
      },
      "execution_count": 31,
      "outputs": [
        {
          "output_type": "stream",
          "name": "stdout",
          "text": [
            "\n",
            "Step 1 - Specific_h: ['sunny' 'warm' 'normal' 'strong' 'warm' 'same'] General_h: [['?', '?', '?', '?', '?', '?'], ['?', '?', '?', '?', '?', '?'], ['?', '?', '?', '?', '?', '?'], ['?', '?', '?', '?', '?', '?'], ['?', '?', '?', '?', '?', '?'], ['?', '?', '?', '?', '?', '?']]\n",
            "\n",
            "Step 2 - Specific_h: ['sunny' 'warm' 'normal' 'strong' 'warm' 'same'] General_h: [['?', '?', 'normal', '?', '?', '?'], ['?', '?', 'normal', '?', '?', '?'], ['?', '?', 'normal', '?', '?', '?'], ['?', '?', 'normal', '?', '?', '?'], ['?', '?', 'normal', '?', '?', '?'], ['?', '?', 'normal', '?', '?', '?']]\n",
            "\n",
            "Step 3 - Specific_h: ['sunny' 'warm' 'normal' 'strong' 'warm' 'same'] General_h: [['sunny', 'warm', 'normal', '?', '?', 'same'], ['sunny', 'warm', 'normal', '?', '?', 'same'], ['sunny', 'warm', 'normal', '?', '?', 'same'], ['sunny', 'warm', 'normal', '?', '?', 'same'], ['sunny', 'warm', 'normal', '?', '?', 'same'], ['sunny', 'warm', 'normal', '?', '?', 'same']]\n",
            "\n",
            "Step 4 - Specific_h: ['sunny' 'warm' 'normal' 'strong' 'warm' 'same'] General_h: [['?', '?', 'normal', '?', 'warm', 'same'], ['?', '?', 'normal', '?', 'warm', 'same'], ['?', '?', 'normal', '?', 'warm', 'same'], ['?', '?', 'normal', '?', 'warm', 'same'], ['?', '?', 'normal', '?', 'warm', 'same'], ['?', '?', 'normal', '?', 'warm', 'same']]\n",
            "\n",
            "Final Specific_h:\n",
            "['sunny' 'warm' 'normal' 'strong' 'warm' 'same']\n",
            "\n",
            "Final General_h:\n",
            "[['?', '?', 'normal', '?', 'warm', 'same'], ['?', '?', 'normal', '?', 'warm', 'same'], ['?', '?', 'normal', '?', 'warm', 'same'], ['?', '?', 'normal', '?', 'warm', 'same'], ['?', '?', 'normal', '?', 'warm', 'same'], ['?', '?', 'normal', '?', 'warm', 'same']]\n"
          ]
        }
      ]
    }
  ]
}